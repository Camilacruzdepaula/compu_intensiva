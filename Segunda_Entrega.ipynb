{
 "cells": [
  {
   "cell_type": "markdown",
   "id": "b707d071",
   "metadata": {},
   "source": [
    "## Colecciones\n"
   ]
  },
  {
   "cell_type": "markdown",
   "id": "6c590572",
   "metadata": {},
   "source": [
    "<img src=\"https://d29jy8ovkd5kcx.cloudfront.net/wp-content/uploads/2021/11/29093822/shutterstock_1447245065-1-300x169.jpg.webp\" width=\"240\" height=\"240\" align=\"center\"/>"
   ]
  },
  {
   "cell_type": "markdown",
   "id": "aa798944",
   "metadata": {},
   "source": [
    "Los ejercicios propuestos para la segunda entrega, se tomaron del cuaderno https://github.com/AprendizajeProfundo/Libro_Fundamentos_Programacion/blob/main/Python/Cuadernos/py_09.ipynb\n",
    "\n"
   ]
  },
  {
   "cell_type": "markdown",
   "id": "31bb3f1c",
   "metadata": {},
   "source": [
    " <font size=\"3\"> **Ejercicio 1:**</font> Investigue que significa unhashable. Busque la función hash() y úsela en este contexto.\n",
    "\n",
    "La función **hash()** es una función que devuelve el número hash de un objeto, si es que lo tiene. La sintaxis de la función es la siguiente:\n",
    "\n",
    "* <mark>**Sintaxis:**</mark> hash(obj)\n",
    "\n",
    "* <mark>**Parámetros:**</mark>  obj : El objeto que se desea convertir a su valor hash.\n",
    "\n",
    "* <mark>**Retorno:**</mark> Devuelve el número hash si es posible."
   ]
  },
  {
   "cell_type": "markdown",
   "id": "26433521",
   "metadata": {},
   "source": [
    "**¿Qué es el número hash?**\n",
    "\n",
    "El número hash es un número entero que identifica un valor en particular. Cada valor debe tener su propio número hash, sin importar si no son el mismo objeto."
   ]
  },
  {
   "cell_type": "code",
   "execution_count": 1,
   "id": "9c8a5b5a",
   "metadata": {},
   "outputs": [
    {
     "data": {
      "text/plain": [
       "7331335941515403538"
      ]
     },
     "execution_count": 1,
     "metadata": {},
     "output_type": "execute_result"
    }
   ],
   "source": [
    "hash('¿Qué es un valor hash?')"
   ]
  },
  {
   "cell_type": "code",
   "execution_count": 2,
   "id": "41de2340",
   "metadata": {},
   "outputs": [
    {
     "data": {
      "text/plain": [
       "7331335941515403538"
      ]
     },
     "execution_count": 2,
     "metadata": {},
     "output_type": "execute_result"
    }
   ],
   "source": [
    "a = '¿Qué es un valor hash?'\n",
    "hash(a)"
   ]
  },
  {
   "cell_type": "code",
   "execution_count": 3,
   "id": "ae6896df",
   "metadata": {},
   "outputs": [
    {
     "data": {
      "text/plain": [
       "7331335941515403538"
      ]
     },
     "execution_count": 3,
     "metadata": {},
     "output_type": "execute_result"
    }
   ],
   "source": [
    "a = ('¿Qué es un valor hash?')\n",
    "hash(a)"
   ]
  },
  {
   "cell_type": "markdown",
   "id": "9b333378",
   "metadata": {},
   "source": [
    "Observe que para cambios mínimos del valor, el número hash cambia considerablemente. Esto permite evitar un mismo identificador para valores diferentes."
   ]
  },
  {
   "cell_type": "code",
   "execution_count": 4,
   "id": "27149e05",
   "metadata": {},
   "outputs": [
    {
     "data": {
      "text/plain": [
       "3813966754695472568"
      ]
     },
     "execution_count": 4,
     "metadata": {},
     "output_type": "execute_result"
    }
   ],
   "source": [
    "hash('¿qué es un valor hash?')"
   ]
  },
  {
   "cell_type": "markdown",
   "id": "a3951e1b",
   "metadata": {},
   "source": [
    "**¿Por qué son importantes los números hash?**\n",
    "\n",
    "Antes de explicar la importancia de los números hash, imagine una lista de gran tamaño. Su tarea es verificar si hay un valor determinado **x** en esa lista. Para ello, escribe la línea de código <mark> if x in lista</mark>, y lo que hace Python es revisar toda la lista y comparar cada posición con el objeto **x**. Un proceso muy demorado.\n",
    "\n",
    "Sin embargo, en colecciones de gran tamaño, Python realiza un seguimiento de cada número hash de los valores de la colección. Cada número hash se compara con el número hash del valor **x**, y después de obtener los valores con el mismo hash de **x**, procede a comparar los valores estrictamente con **x**. Este proceso es mucho más rápido computacionalmente.\n",
    "\n",
    "Esta metodología se utiliza en la búsqueda de diccionarios, por esa razón esta búsqueda es tan rápida. Algo importante de los números hash, es que solo pueden asignarse a valores no modificables para garantizar la unicidad de los valores y evitar confunsiones al estar cambiando los valores del objeto.\n",
    "\n",
    "Una lista y un diccionario al ser objetos modificables no poseen un número hash **(unhashable)**. Un ejemplo a continuación:"
   ]
  },
  {
   "cell_type": "code",
   "execution_count": 5,
   "id": "7e951762",
   "metadata": {},
   "outputs": [
    {
     "ename": "TypeError",
     "evalue": "unhashable type: 'list'",
     "output_type": "error",
     "traceback": [
      "\u001b[0;31m---------------------------------------------------------------------------\u001b[0m",
      "\u001b[0;31mTypeError\u001b[0m                                 Traceback (most recent call last)",
      "Input \u001b[0;32mIn [5]\u001b[0m, in \u001b[0;36m<cell line: 2>\u001b[0;34m()\u001b[0m\n\u001b[1;32m      1\u001b[0m lista \u001b[38;5;241m=\u001b[39m [\u001b[38;5;124m'\u001b[39m\u001b[38;5;124mobjeto\u001b[39m\u001b[38;5;124m'\u001b[39m, \u001b[38;5;124m'\u001b[39m\u001b[38;5;124mmodificable\u001b[39m\u001b[38;5;124m'\u001b[39m]\n\u001b[0;32m----> 2\u001b[0m \u001b[38;5;28;43mhash\u001b[39;49m\u001b[43m(\u001b[49m\u001b[43mlista\u001b[49m\u001b[43m)\u001b[49m\n",
      "\u001b[0;31mTypeError\u001b[0m: unhashable type: 'list'"
     ]
    }
   ],
   "source": [
    "lista = ['objeto', 'modificable']\n",
    "hash(lista)"
   ]
  },
  {
   "cell_type": "code",
   "execution_count": 6,
   "id": "8491696b",
   "metadata": {},
   "outputs": [
    {
     "ename": "TypeError",
     "evalue": "unhashable type: 'dict'",
     "output_type": "error",
     "traceback": [
      "\u001b[0;31m---------------------------------------------------------------------------\u001b[0m",
      "\u001b[0;31mTypeError\u001b[0m                                 Traceback (most recent call last)",
      "Input \u001b[0;32mIn [6]\u001b[0m, in \u001b[0;36m<cell line: 3>\u001b[0;34m()\u001b[0m\n\u001b[1;32m      1\u001b[0m diccionario \u001b[38;5;241m=\u001b[39m {\u001b[38;5;124m'\u001b[39m\u001b[38;5;124mobjeto modificable:\u001b[39m\u001b[38;5;124m'\u001b[39m :\u001b[38;5;124m'\u001b[39m\u001b[38;5;124mSí\u001b[39m\u001b[38;5;124m'\u001b[39m,\n\u001b[1;32m      2\u001b[0m               \u001b[38;5;124m'\u001b[39m\u001b[38;5;124mPosee número hash\u001b[39m\u001b[38;5;124m'\u001b[39m: \u001b[38;5;124m'\u001b[39m\u001b[38;5;124mNo\u001b[39m\u001b[38;5;124m'\u001b[39m}\n\u001b[0;32m----> 3\u001b[0m \u001b[38;5;28;43mhash\u001b[39;49m\u001b[43m(\u001b[49m\u001b[43mdiccionario\u001b[49m\u001b[43m)\u001b[49m\n",
      "\u001b[0;31mTypeError\u001b[0m: unhashable type: 'dict'"
     ]
    }
   ],
   "source": [
    "diccionario = {'objeto modificable:' :'Sí',\n",
    "              'Posee número hash': 'No'}\n",
    "hash(diccionario)"
   ]
  },
  {
   "cell_type": "markdown",
   "id": "4fa40d31",
   "metadata": {},
   "source": [
    " <font size=\"3\"> **Ejercicio 2:**</font> Defina un diccionario de al menos 4 llaves de tal manera que esas llaves sean tuplas. Acceda a cada elemento. ¿Puede hacer lo mismo para una llave que sea definida como lista o diccionario?"
   ]
  },
  {
   "cell_type": "markdown",
   "id": "3b397579",
   "metadata": {},
   "source": [
    "**Diccionario con 4 tuplas como llaves**"
   ]
  },
  {
   "cell_type": "code",
   "execution_count": 7,
   "id": "b175a6b2",
   "metadata": {},
   "outputs": [],
   "source": [
    "ciudades = { ('Bogotá'): ('Colombia', 'capital'),\n",
    "             ('Rio de Janeiro', 'Sao Paulo'): ('Brasil', 'ciudades principales'),\n",
    "             ('Argentina'): ('Buenos Aires', 'capital'),              \n",
    "             ('Córdoba', 'Rosario'):('Argentina', 'ciudades principales')}"
   ]
  },
  {
   "cell_type": "code",
   "execution_count": 8,
   "id": "2a0a0587",
   "metadata": {},
   "outputs": [
    {
     "data": {
      "text/plain": [
       "{'Bogotá': ('Colombia', 'capital'),\n",
       " ('Rio de Janeiro', 'Sao Paulo'): ('Brasil', 'ciudades principales'),\n",
       " 'Argentina': ('Buenos Aires', 'capital'),\n",
       " ('Córdoba', 'Rosario'): ('Argentina', 'ciudades principales')}"
      ]
     },
     "execution_count": 8,
     "metadata": {},
     "output_type": "execute_result"
    }
   ],
   "source": [
    "ciudades"
   ]
  },
  {
   "cell_type": "code",
   "execution_count": 9,
   "id": "f9bdda44",
   "metadata": {},
   "outputs": [
    {
     "name": "stdout",
     "output_type": "stream",
     "text": [
      "('Colombia', 'capital')\n",
      "('Colombia', 'capital')\n"
     ]
    }
   ],
   "source": [
    "print(ciudades[('Bogotá')])\n",
    "print(ciudades['Bogotá'])"
   ]
  },
  {
   "cell_type": "code",
   "execution_count": 10,
   "id": "997d004b",
   "metadata": {},
   "outputs": [
    {
     "data": {
      "text/plain": [
       "('Brasil', 'ciudades principales')"
      ]
     },
     "execution_count": 10,
     "metadata": {},
     "output_type": "execute_result"
    }
   ],
   "source": [
    "ciudades[('Rio de Janeiro', 'Sao Paulo')]"
   ]
  },
  {
   "cell_type": "code",
   "execution_count": 11,
   "id": "8ff31a5e",
   "metadata": {},
   "outputs": [
    {
     "data": {
      "text/plain": [
       "('Argentina', 'ciudades principales')"
      ]
     },
     "execution_count": 11,
     "metadata": {},
     "output_type": "execute_result"
    }
   ],
   "source": [
    "ciudades[('Córdoba', 'Rosario')]"
   ]
  },
  {
   "cell_type": "markdown",
   "id": "8fbf5c95",
   "metadata": {},
   "source": [
    "**Diccionario con 4 listas como llaves**"
   ]
  },
  {
   "cell_type": "code",
   "execution_count": 12,
   "id": "955f9287",
   "metadata": {},
   "outputs": [
    {
     "ename": "TypeError",
     "evalue": "unhashable type: 'list'",
     "output_type": "error",
     "traceback": [
      "\u001b[0;31m---------------------------------------------------------------------------\u001b[0m",
      "\u001b[0;31mTypeError\u001b[0m                                 Traceback (most recent call last)",
      "Input \u001b[0;32mIn [12]\u001b[0m, in \u001b[0;36m<cell line: 1>\u001b[0;34m()\u001b[0m\n\u001b[0;32m----> 1\u001b[0m ciudades \u001b[38;5;241m=\u001b[39m { [\u001b[38;5;124m'\u001b[39m\u001b[38;5;124mBogotá\u001b[39m\u001b[38;5;124m'\u001b[39m]: (\u001b[38;5;124m'\u001b[39m\u001b[38;5;124mColombia\u001b[39m\u001b[38;5;124m'\u001b[39m, \u001b[38;5;124m'\u001b[39m\u001b[38;5;124mcapital\u001b[39m\u001b[38;5;124m'\u001b[39m),\n\u001b[1;32m      2\u001b[0m              [\u001b[38;5;124m'\u001b[39m\u001b[38;5;124mRio de Janeiro\u001b[39m\u001b[38;5;124m'\u001b[39m, \u001b[38;5;124m'\u001b[39m\u001b[38;5;124mSao Paulo\u001b[39m\u001b[38;5;124m'\u001b[39m]: (\u001b[38;5;124m'\u001b[39m\u001b[38;5;124mBrasil\u001b[39m\u001b[38;5;124m'\u001b[39m, \u001b[38;5;124m'\u001b[39m\u001b[38;5;124mciudades principales\u001b[39m\u001b[38;5;124m'\u001b[39m),\n\u001b[1;32m      3\u001b[0m              [\u001b[38;5;124m'\u001b[39m\u001b[38;5;124mArgentina\u001b[39m\u001b[38;5;124m'\u001b[39m]: (\u001b[38;5;124m'\u001b[39m\u001b[38;5;124mBuenos Aires\u001b[39m\u001b[38;5;124m'\u001b[39m, \u001b[38;5;124m'\u001b[39m\u001b[38;5;124mcapital\u001b[39m\u001b[38;5;124m'\u001b[39m),              \n\u001b[1;32m      4\u001b[0m              [\u001b[38;5;124m'\u001b[39m\u001b[38;5;124mCórdoba\u001b[39m\u001b[38;5;124m'\u001b[39m, \u001b[38;5;124m'\u001b[39m\u001b[38;5;124mRosario\u001b[39m\u001b[38;5;124m'\u001b[39m]:(\u001b[38;5;124m'\u001b[39m\u001b[38;5;124mArgentina\u001b[39m\u001b[38;5;124m'\u001b[39m, \u001b[38;5;124m'\u001b[39m\u001b[38;5;124mciudades principales\u001b[39m\u001b[38;5;124m'\u001b[39m)}\n",
      "\u001b[0;31mTypeError\u001b[0m: unhashable type: 'list'"
     ]
    }
   ],
   "source": [
    "ciudades = { ['Bogotá']: ('Colombia', 'capital'),\n",
    "             ['Rio de Janeiro', 'Sao Paulo']: ('Brasil', 'ciudades principales'),\n",
    "             ['Argentina']: ('Buenos Aires', 'capital'),              \n",
    "             ['Córdoba', 'Rosario']:('Argentina', 'ciudades principales')}"
   ]
  },
  {
   "cell_type": "markdown",
   "id": "a2d045d0",
   "metadata": {},
   "source": [
    "Vemos que no es posible que una lista sea una llave en un diccionario. Esto se debe a que las llaves son objetos hashable, y las listas no. Recordemos, del punto anterior, que la búsqueda rápida de los diccionario se debe a que python busca el número hash de las llaves y luego los compara."
   ]
  },
  {
   "cell_type": "markdown",
   "id": "7e09b5fd",
   "metadata": {},
   "source": [
    "**Diccionario con 1 diccionario como llave**"
   ]
  },
  {
   "cell_type": "code",
   "execution_count": 13,
   "id": "36701367",
   "metadata": {},
   "outputs": [],
   "source": [
    "dic = {'capitales':'sí', 'departamentos': 'sí'}"
   ]
  },
  {
   "cell_type": "code",
   "execution_count": 14,
   "id": "2f0c62bb",
   "metadata": {},
   "outputs": [
    {
     "ename": "TypeError",
     "evalue": "unhashable type: 'dict'",
     "output_type": "error",
     "traceback": [
      "\u001b[0;31m---------------------------------------------------------------------------\u001b[0m",
      "\u001b[0;31mTypeError\u001b[0m                                 Traceback (most recent call last)",
      "Input \u001b[0;32mIn [14]\u001b[0m, in \u001b[0;36m<cell line: 1>\u001b[0;34m()\u001b[0m\n\u001b[0;32m----> 1\u001b[0m ciudades \u001b[38;5;241m=\u001b[39m { dic: (\u001b[38;5;124m'\u001b[39m\u001b[38;5;124mColombia\u001b[39m\u001b[38;5;124m'\u001b[39m, \u001b[38;5;124m'\u001b[39m\u001b[38;5;124mcapital\u001b[39m\u001b[38;5;124m'\u001b[39m)}\n",
      "\u001b[0;31mTypeError\u001b[0m: unhashable type: 'dict'"
     ]
    }
   ],
   "source": [
    "ciudades = { dic: ('Colombia', 'capital')}"
   ]
  },
  {
   "cell_type": "markdown",
   "id": "d362e51b",
   "metadata": {},
   "source": [
    "Al igual que con las listas, los diccionarios no pueden ser llaves, pues son objetos unhashable."
   ]
  },
  {
   "cell_type": "markdown",
   "id": "bf626ef8",
   "metadata": {},
   "source": [
    " <font size=\"3\"> **Ejercicio POO:**</font> Escriba un cuadernos en donde implemente  una clase  iterable  que haga lo siguiente: \n",
    "\n",
    "* Al inicio abra el archivo y lo suba a un dataframe de Pandas\n",
    "* Entregue la información de la siguiente cuenta cuando se le pida el siguiente dato."
   ]
  },
  {
   "cell_type": "code",
   "execution_count": 15,
   "id": "996e2fd1",
   "metadata": {},
   "outputs": [],
   "source": [
    "from datetime import datetime\n",
    "import pandas as pd\n",
    "import csv"
   ]
  },
  {
   "cell_type": "markdown",
   "id": "83ad43e8",
   "metadata": {},
   "source": [
    "* La siguiente **clase** no le pregunta al usuario si quiere ver la información de la siguiente cuenta, sino que itera sobre todas las filas del dataframe."
   ]
  },
  {
   "cell_type": "code",
   "execution_count": 16,
   "id": "00573e56",
   "metadata": {},
   "outputs": [],
   "source": [
    "class cuentas_bancarias(object):\n",
    "    def __init__(self, data):\n",
    "        self.limit = len(data)\n",
    "        self.val = 0\n",
    "        self.data = data\n",
    "    \n",
    "    def __iter__(self):\n",
    "        return self    \n",
    "    \n",
    "    def __next__(self):\n",
    "        if self.val >= self.limit:\n",
    "            raise StopIteration\n",
    "        else:\n",
    "            return_val = self.data.loc[self.val]\n",
    "            self.val = self.val +1\n",
    "            return return_val\n",
    "        \n",
    "    @classmethod\n",
    "    def from_csv(cls, filepath):\n",
    "        data = pd.read_csv(filepath)\n",
    "        return cls(data)"
   ]
  },
  {
   "cell_type": "code",
   "execution_count": 17,
   "id": "f72ea45e",
   "metadata": {},
   "outputs": [],
   "source": [
    "path = 'https://raw.githubusercontent.com/Camilacruzdepaula/compu_intensiva/main/cuentas_bancarias.csv'\n",
    "cuentas = cuentas_bancarias.from_csv(path)"
   ]
  },
  {
   "cell_type": "code",
   "execution_count": 18,
   "id": "2be340e8",
   "metadata": {},
   "outputs": [
    {
     "name": "stdout",
     "output_type": "stream",
     "text": [
      "Numero_cuenta                            202209026758\n",
      "Nombre                      Ana Maria Ruiz Delgadillo\n",
      "Saldo_actual                                   905600\n",
      "Fecha_ultima_transaccion                     03/06/22\n",
      "Name: 0, dtype: object\n",
      "Numero_cuenta                           202209026759\n",
      "Nombre                      Luz Angela Agudelo Riaño\n",
      "Saldo_actual                                 5465000\n",
      "Fecha_ultima_transaccion                    06/06/22\n",
      "Name: 1, dtype: object\n",
      "Numero_cuenta                      202209026760\n",
      "Nombre                      Heidi Ortiz Rugeles\n",
      "Saldo_actual                            2333990\n",
      "Fecha_ultima_transaccion               10/07/22\n",
      "Name: 2, dtype: object\n",
      "Numero_cuenta                         202209026761\n",
      "Nombre                      Oscar Bustamante Parra\n",
      "Saldo_actual                               7645000\n",
      "Fecha_ultima_transaccion                  23/06/22\n",
      "Name: 3, dtype: object\n",
      "Numero_cuenta                       202209026762\n",
      "Nombre                      Santiago Lule Castro\n",
      "Saldo_actual                              520000\n",
      "Fecha_ultima_transaccion                07/08/22\n",
      "Name: 4, dtype: object\n",
      "Numero_cuenta                             202209026763\n",
      "Nombre                      Mariana Hernandez Pulgarin\n",
      "Saldo_actual                                   2345000\n",
      "Fecha_ultima_transaccion                      16/07/22\n",
      "Name: 5, dtype: object\n",
      "Numero_cuenta                       202209026764\n",
      "Nombre                      Valeria Arcila Gomez\n",
      "Saldo_actual                             1200800\n",
      "Fecha_ultima_transaccion                13/08/22\n",
      "Name: 6, dtype: object\n",
      "Numero_cuenta                                202209026765\n",
      "Nombre                      Andres Felipe Fuquene Otálora\n",
      "Saldo_actual                                       913650\n",
      "Fecha_ultima_transaccion                         09/06/22\n",
      "Name: 7, dtype: object\n"
     ]
    }
   ],
   "source": [
    "for i in cuentas:\n",
    "    print(i)"
   ]
  },
  {
   "cell_type": "markdown",
   "id": "a7e9a7bf",
   "metadata": {},
   "source": [
    "* La siguiente **clase** le pregunta al usuario si quiere ver la información de la siguiente cuenta, si la respuesta es no, el proceso iterativo se interrumpe."
   ]
  },
  {
   "cell_type": "code",
   "execution_count": 19,
   "id": "e9c3ce5b",
   "metadata": {},
   "outputs": [],
   "source": [
    "class cuentas_bancarias(object):\n",
    "    \n",
    "    def __init__(self, data):\n",
    "        self.limit = len(data)\n",
    "        self.val = 0\n",
    "        self.siguiente = 'No'\n",
    "        self.data = data\n",
    "    \n",
    "    def __iter__(self):\n",
    "        return self\n",
    "    \n",
    "    # Hace esta clase un iterador\n",
    "    def __next__(self):\n",
    "        \n",
    "        if (self.val >= self.limit)| (self.siguiente=='No'):\n",
    "            raise StopIteration\n",
    "        else:                       \n",
    "            return_val = self.data.loc[self.val]\n",
    "            self.val = self.val + 1                        \n",
    "            \n",
    "            return return_val\n",
    "        \n",
    "    @classmethod\n",
    "    def from_csv(cls, filepath):\n",
    "        data = pd.read_csv(filepath)\n",
    "        return cls(data)"
   ]
  },
  {
   "cell_type": "code",
   "execution_count": 20,
   "id": "38364124",
   "metadata": {},
   "outputs": [],
   "source": [
    "path = 'https://raw.githubusercontent.com/Camilacruzdepaula/compu_intensiva/main/cuentas_bancarias.csv'\n",
    "cuentas = cuentas_bancarias.from_csv(path)"
   ]
  },
  {
   "cell_type": "code",
   "execution_count": 21,
   "id": "49708b8b",
   "metadata": {},
   "outputs": [
    {
     "name": "stdout",
     "output_type": "stream",
     "text": [
      "¿Quieres ver la siguiente cuenta?(Si, No):\n",
      "Si\n",
      "Numero_cuenta                            202209026758\n",
      "Nombre                      Ana Maria Ruiz Delgadillo\n",
      "Saldo_actual                                   905600\n",
      "Fecha_ultima_transaccion                     03/06/22\n",
      "Name: 0, dtype: object, \n",
      "¿Quieres ver la siguiente cuenta? (Si, No):\n",
      "Si\n",
      "Numero_cuenta                           202209026759\n",
      "Nombre                      Luz Angela Agudelo Riaño\n",
      "Saldo_actual                                 5465000\n",
      "Fecha_ultima_transaccion                    06/06/22\n",
      "Name: 1, dtype: object, \n",
      "¿Quieres ver la siguiente cuenta? (Si, No):\n",
      "Si\n",
      "Numero_cuenta                      202209026760\n",
      "Nombre                      Heidi Ortiz Rugeles\n",
      "Saldo_actual                            2333990\n",
      "Fecha_ultima_transaccion               10/07/22\n",
      "Name: 2, dtype: object, \n",
      "¿Quieres ver la siguiente cuenta? (Si, No):\n",
      "SI\n",
      "Numero_cuenta                         202209026761\n",
      "Nombre                      Oscar Bustamante Parra\n",
      "Saldo_actual                               7645000\n",
      "Fecha_ultima_transaccion                  23/06/22\n",
      "Name: 3, dtype: object, \n",
      "¿Quieres ver la siguiente cuenta? (Si, No):\n",
      "No\n"
     ]
    }
   ],
   "source": [
    "print('¿Quieres ver la siguiente cuenta?(Si, No):')\n",
    "x = input()\n",
    "cuentas.siguiente = x \n",
    "\n",
    "for i in cuentas:\n",
    "    \n",
    "    print(i,end=', ')\n",
    "    print('\\n¿Quieres ver la siguiente cuenta? (Si, No):')\n",
    "    x = input()\n",
    "    cuentas.siguiente = x   "
   ]
  }
 ],
 "metadata": {
  "kernelspec": {
   "display_name": "Python 3 (ipykernel)",
   "language": "python",
   "name": "python3"
  },
  "language_info": {
   "codemirror_mode": {
    "name": "ipython",
    "version": 3
   },
   "file_extension": ".py",
   "mimetype": "text/x-python",
   "name": "python",
   "nbconvert_exporter": "python",
   "pygments_lexer": "ipython3",
   "version": "3.9.12"
  }
 },
 "nbformat": 4,
 "nbformat_minor": 5
}
